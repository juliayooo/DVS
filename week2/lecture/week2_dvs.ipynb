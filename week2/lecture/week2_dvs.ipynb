{
 "cells": [
  {
   "cell_type": "markdown",
   "metadata": {},
   "source": [
    "# DVS Week 2: Processing Data\n",
    "\n",
    "## CSV examples\n",
    "\n",
    "The python standard library does have some support for reading CSV:\n"
   ]
  },
  {
   "cell_type": "code",
   "execution_count": null,
   "metadata": {},
   "outputs": [],
   "source": [
    "import csv\n",
    "\n",
    "with open(\"../data/flights.csv\") as f:\n",
    "    reader = csv.DictReader(f)\n",
    "    data = list(reader)\n",
    "\n",
    "data"
   ]
  },
  {
   "cell_type": "markdown",
   "metadata": {},
   "source": [
    "As you can see, _every_ field is imported as a string. We _could_ tidy that up:"
   ]
  },
  {
   "cell_type": "code",
   "execution_count": null,
   "metadata": {},
   "outputs": [],
   "source": [
    "def tidy_flights_data(d):\n",
    "    numeric_fields = [\n",
    "        \"year\",\n",
    "        \"month\",\n",
    "        \"day\",\n",
    "        \"dep_time\",\n",
    "        \"sched_dep_time\",\n",
    "        \"dep_delay\",\n",
    "        \"arr_time\",\n",
    "        \"sched_arr_time\",\n",
    "        \"arr_delay\",\n",
    "        \"air_time\",\n",
    "        \"distance\",\n",
    "        \"hour\",\n",
    "        \"minute\"\n",
    "    ]\n",
    "\n",
    "    for field in numeric_fields:\n",
    "        if d[field] == \"NA\":\n",
    "            d[field] = None\n",
    "        elif d[field] != None:\n",
    "            d[field] = int(d[field])\n",
    "\n",
    "    return d\n",
    "\n",
    "\n",
    "flights = [tidy_flights_data(d) for d in data]\n",
    "flights[0]"
   ]
  },
  {
   "cell_type": "markdown",
   "metadata": {},
   "source": [
    "But that's long-winded and painful. Python's internal CSV support isn't great, partly because it has amazing external libraries - and we'll look at `pandas` later."
   ]
  },
  {
   "cell_type": "markdown",
   "metadata": {},
   "source": [
    "## JSON\n",
    "\n",
    "Python also has good JSON support. Let's load our sample JSON file into Python, and parse it."
   ]
  },
  {
   "cell_type": "code",
   "execution_count": null,
   "metadata": {},
   "outputs": [],
   "source": [
    "import json\n",
    "\n",
    "with open('../data/flights_ten.json') as f:\n",
    "    sample_flights = json.load(f)\n",
    "\n",
    "sample_flights"
   ]
  },
  {
   "cell_type": "markdown",
   "metadata": {},
   "source": [
    "Let's just get the first item in the `flights` object."
   ]
  },
  {
   "cell_type": "code",
   "execution_count": null,
   "metadata": {},
   "outputs": [],
   "source": [
    "sample_flights['flights'][0]"
   ]
  },
  {
   "cell_type": "markdown",
   "metadata": {},
   "source": [
    "Note how nested objects are preserved, and numbers have been automatically parsed. (Note also how some of the times in the sample data _weren't_ numbers, they were strings, and that's been preserved too.)"
   ]
  },
  {
   "cell_type": "markdown",
   "metadata": {},
   "source": [
    "## CSV with Pandas\n",
    "\n",
    "`pandas` is a very popular data science / analysis library for Python. It's a great alternative for handling CSV, and is built on top of `numpy`.\n",
    "\n",
    "This will only be a _very_ brief introduction to `pandas`, and there will be an in-class exercise on it, to explore using it a little.\n",
    "\n",
    "### Key `pandas` Ideas\n",
    "\n",
    "A `Series` is a single-dimensional list of data.\n",
    "\n",
    "A `DataFrame` is a table, composed of many columns; each column is a `Series`.\n",
    "\n",
    "Each item in a Series - or DataFrame - has an `index`. That could be an integer - just like in an array - but it could also be a string, or _multiple_ fields (eg: year/month/day). The point is: an index is a **unique way of identifying an item **.\n"
   ]
  },
  {
   "cell_type": "code",
   "execution_count": null,
   "metadata": {},
   "outputs": [],
   "source": [
    "import pandas as pd\n",
    "\n",
    "pokemon = pd.read_csv('../data/pokemon.csv')\n",
    "\n",
    "pokemon"
   ]
  },
  {
   "cell_type": "markdown",
   "metadata": {},
   "source": [
    "Wow! That's a lot more impressive than the Python CSV library.\n",
    "\n",
    "The pretty tabular view is, in fact, a Jupyter feature with Pandas. Let's look at the data in more detail:"
   ]
  },
  {
   "cell_type": "code",
   "execution_count": null,
   "metadata": {},
   "outputs": [],
   "source": [
    "pokemon.info()"
   ]
  },
  {
   "cell_type": "markdown",
   "metadata": {},
   "source": [
    "See how it's guessed the data types? Numbers are picked up as integers, `Legendary` is a boolean, and the other items are strings.\n",
    "\n",
    "Let's ask pandas about some statistics:"
   ]
  },
  {
   "cell_type": "code",
   "execution_count": null,
   "metadata": {},
   "outputs": [],
   "source": [
    "pokemon.describe()"
   ]
  },
  {
   "cell_type": "markdown",
   "metadata": {},
   "source": [
    "We can filter the table. Let's find every Gen1 pokemon:"
   ]
  },
  {
   "cell_type": "code",
   "execution_count": null,
   "metadata": {},
   "outputs": [],
   "source": [
    "gen1 = pokemon.query('Generation == 1')\n",
    "gen1"
   ]
  },
  {
   "cell_type": "markdown",
   "metadata": {},
   "source": [
    "Every gen1 with an HP above 100?"
   ]
  },
  {
   "cell_type": "code",
   "execution_count": null,
   "metadata": {},
   "outputs": [],
   "source": [
    "gen1.query('HP > 100')"
   ]
  },
  {
   "cell_type": "markdown",
   "metadata": {},
   "source": [
    "We can also perform aggregate operations:"
   ]
  },
  {
   "cell_type": "code",
   "execution_count": null,
   "metadata": {},
   "outputs": [],
   "source": [
    "pokemon.groupby(\"Type 1\").size()"
   ]
  }
 ],
 "metadata": {
  "kernelspec": {
   "display_name": "Python 3",
   "language": "python",
   "name": "python3"
  },
  "language_info": {
   "codemirror_mode": {
    "name": "ipython",
    "version": 3
   },
   "file_extension": ".py",
   "mimetype": "text/x-python",
   "name": "python",
   "nbconvert_exporter": "python",
   "pygments_lexer": "ipython3",
   "version": "3.12.4"
  }
 },
 "nbformat": 4,
 "nbformat_minor": 2
}
