{
 "cells": [
  {
   "cell_type": "markdown",
   "metadata": {},
   "source": [
    "# Exploring CSV data with pandas\n",
    "\n",
    "This workbook is a classroom exercise to see how `pandas` can help us explore data - and should quickly illustrate its power compared to the basic Python CSV tools.\n",
    "\n",
    "Before you proceed, you'll need `pandas` available to your Python environment. (Eg: `conda install pandas` if you use `conda`).\n",
    "\n",
    "- you should **run each Python cell as you come to it**\n",
    "- return a DataFrame or Series as the final item in a cell to display it.\n",
    "\n",
    "With that done: let's load the flights CSV file."
   ]
  },
  {
   "cell_type": "code",
   "execution_count": null,
   "metadata": {},
   "outputs": [],
   "source": [
    "import pandas as pd\n",
    "\n",
    "flights_raw = pd.read_csv(\"../../data/flights.csv\").iloc[:, 1:]\n",
    "\n",
    "# that `iloc` incantation is just removing the first, unnecessary column\n",
    "\n",
    "flights_raw\n",
    "\n",
    "# don't forget to run me!"
   ]
  },
  {
   "cell_type": "markdown",
   "metadata": {},
   "source": [
    "1. How many flights are in the system? The `shape` property on a DataFrame will help you define this."
   ]
  },
  {
   "cell_type": "code",
   "execution_count": 101,
   "metadata": {},
   "outputs": [],
   "source": [
    "# use `shape` to summarise how many rows are in the DataFrame - don't just copy it from a table printout!"
   ]
  },
  {
   "cell_type": "markdown",
   "metadata": {},
   "source": [
    "## Filtering and sorting data\n",
    "\n",
    "`query`\n",
    "\n",
    "selects rows according to whatever conditions we specify, e.g.:\n",
    "\n",
    "```python\n",
    "data.query('origin == \"EWR\"')\n",
    "data.query('month == 12')\n",
    "```\n",
    "\n",
    "Note that the query is a Boolean expression, provided as a string ''.\n",
    "\n",
    "Inside the query, column names are unquoted and string values are quoted using \"\" (double quotes).\n",
    "\n",
    "We can refer to columns containing spaces by enclosing them in backticks ``.\n",
    "\n",
    "We can also refer to variables in the environment using the @ prefix.\n",
    "\n",
    "```python\n",
    "six_am = 600\n",
    "data.query('dep_time < @six_am')\n",
    "```\n",
    "\n",
    "`sort_values`\n",
    "\n",
    "returns a _copy_ of the DataFrame, sorted by ascending column value:\n",
    "\n",
    "```python\n",
    "data.sort_values('dep_time')\n",
    "```\n",
    "...or by descending value using ascending=False:\n",
    "\n",
    "```python\n",
    "data.sort_values('arr_delay', ascending=False)\n",
    "```\n",
    "\n",
    "The original DataFrame is unchanged."
   ]
  },
  {
   "cell_type": "markdown",
   "metadata": {},
   "source": [
    "### Filtering exercise\n",
    "\n",
    "The flights data table isn't quite in date order.\n",
    "\n",
    "1. Use the `tail` method to prove what the last flights in `flights_raw` are not from December.\n"
   ]
  },
  {
   "cell_type": "code",
   "execution_count": null,
   "metadata": {},
   "outputs": [],
   "source": []
  },
  {
   "cell_type": "markdown",
   "metadata": {},
   "source": [
    "\n",
    "2. Make a new dataframe called `flights_sorted`, sorted by year/month/day. (To sort a DataFrame or Series by _multiple_ values, pass a list to `sort_values`)."
   ]
  },
  {
   "cell_type": "code",
   "execution_count": null,
   "metadata": {},
   "outputs": [],
   "source": []
  },
  {
   "cell_type": "markdown",
   "metadata": {},
   "source": [
    "3. Let's filter out all the flights that never took off.\n",
    "\n",
    "- In a `query` string, you can query for non-NA values like this: `your_data_frame.query('column.notna()')`\n",
    "- Filter your sorted array to only flights where their departure time is not NA"
   ]
  },
  {
   "cell_type": "code",
   "execution_count": null,
   "metadata": {},
   "outputs": [],
   "source": []
  },
  {
   "cell_type": "markdown",
   "metadata": {},
   "source": [
    "4. What percentage of flights actually took off?\n"
   ]
  },
  {
   "cell_type": "code",
   "execution_count": null,
   "metadata": {},
   "outputs": [],
   "source": []
  },
  {
   "cell_type": "markdown",
   "metadata": {},
   "source": [
    "## Making new columns\n",
    "\n",
    "Making new columns is straightforward: you can use `[]=` to make a new column based on other data. A contrived example:\n",
    "\n",
    "```python\n",
    "flights['halfway'] = flights['distance'] / 2\n",
    "```\n",
    "\n",
    "### Exercise\n",
    "\n",
    "1. Add a new column `catch_up` to the dataframe, that describes how many minutes the aircraft made up in flight. Use the `dep_delay` and `arr_delay` columns to do so."
   ]
  },
  {
   "cell_type": "code",
   "execution_count": null,
   "metadata": {},
   "outputs": [],
   "source": []
  },
  {
   "cell_type": "markdown",
   "metadata": {},
   "source": [
    "2. How many flights in the dataset made up time in transit?"
   ]
  },
  {
   "cell_type": "code",
   "execution_count": null,
   "metadata": {},
   "outputs": [],
   "source": []
  },
  {
   "cell_type": "markdown",
   "metadata": {},
   "source": [
    "## Grouping\n",
    "\n",
    "We can use `groupby()` to group data by one or more columns. This is very useful for performing aggregate statistics. "
   ]
  },
  {
   "cell_type": "code",
   "execution_count": null,
   "metadata": {},
   "outputs": [],
   "source": [
    "# for instance: we could use `query` to find out how many flights were scheduled to take off from Newark:\n",
    "\n",
    "flights_raw.query('origin == \"EWR\"').shape[0]\n"
   ]
  },
  {
   "cell_type": "code",
   "execution_count": null,
   "metadata": {},
   "outputs": [],
   "source": [
    "# But we could also group by origin, and then calculate the `size` of each group:\n",
    "flights_raw.groupby('origin').size()"
   ]
  },
  {
   "cell_type": "markdown",
   "metadata": {},
   "source": [
    "### Exercise\n",
    "\n",
    "1. What are the 5 most popular destinations in the year? (Group the flights by `dest`, get the `size()` of each value, and `sort_values` with `ascending=False`)"
   ]
  },
  {
   "cell_type": "code",
   "execution_count": null,
   "metadata": {},
   "outputs": [],
   "source": []
  },
  {
   "cell_type": "markdown",
   "metadata": {},
   "source": [
    "2. Calculate how many flights there were per day. (You can group by a _list_ of columns!) Is this dataset familiar?"
   ]
  },
  {
   "cell_type": "code",
   "execution_count": null,
   "metadata": {},
   "outputs": [],
   "source": []
  },
  {
   "cell_type": "markdown",
   "metadata": {},
   "source": [
    "3. Calculate how many flights there were per day, per origin airport"
   ]
  },
  {
   "cell_type": "code",
   "execution_count": null,
   "metadata": {},
   "outputs": [],
   "source": []
  },
  {
   "cell_type": "markdown",
   "metadata": {},
   "source": [
    "## Exporting frames to CSV\n",
    "\n",
    "Finally, we can export DataFrames to CSV.\n",
    "\n",
    "Take your group flights per-day, per-airport, and use the `to_csv` method on it - with a suitable filename - to export your data:\n",
    "\n",
    "`data.to_csv('my_filename.csv')`"
   ]
  },
  {
   "cell_type": "code",
   "execution_count": null,
   "metadata": {},
   "outputs": [],
   "source": []
  },
  {
   "cell_type": "markdown",
   "metadata": {},
   "source": [
    "## Finally\n",
    "\n",
    "If you reach the end of the workbook, take the CSV file above - or another set of data of your own choosing - and explore visualising it in a tool of your choice - a spreadsheet graphing library, P5, etc."
   ]
  }
 ],
 "metadata": {
  "kernelspec": {
   "display_name": "Python 3",
   "language": "python",
   "name": "python3"
  },
  "language_info": {
   "codemirror_mode": {
    "name": "ipython",
    "version": 3
   },
   "file_extension": ".py",
   "mimetype": "text/x-python",
   "name": "python",
   "nbconvert_exporter": "python",
   "pygments_lexer": "ipython3",
   "version": "3.12.4"
  }
 },
 "nbformat": 4,
 "nbformat_minor": 2
}
